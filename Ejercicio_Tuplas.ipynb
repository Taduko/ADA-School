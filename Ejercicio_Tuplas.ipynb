{
 "cells": [
  {
   "cell_type": "markdown",
   "metadata": {},
   "source": [
    "Ejercicio Tuplas: Reservaciones en un cine\n"
   ]
  },
  {
   "cell_type": "code",
   "execution_count": 7,
   "metadata": {},
   "outputs": [
    {
     "name": "stdout",
     "output_type": "stream",
     "text": [
      "La pelicula 1. Harry Potter se proyectará a las 12:00\n",
      "La pelicula 2. El Señor de los Bombillos se proyectará a las 16:00\n",
      "La pelicula 3. Spider-Man se proyectará a las 20:00\n",
      "Usted eligió la película 3. Spider-Man y se proyectará a las 20:00\n"
     ]
    }
   ],
   "source": [
    "#Creacion de tuplas\n",
    "peliculas = ('Harry Potter','El Señor de los Bombillos','Spider-Man')\n",
    "horarios = ('12:00','16:00','20:00')\n",
    "\n",
    "\n",
    "#Recorrido de Tuplas y Print de Películas\n",
    "for posiciones in range(0,3):\n",
    "    print(f'La pelicula {peliculas[posiciones]} se proyectará a las {horarios[posiciones]}')\n",
    "\n",
    "#Pidiendo al usuario que elija una película\n",
    "opcion = int(input('Ingrese el número de la película que desea ver: '))\n",
    "print(f'Usted eligió la película {peliculas[opcion-1]} y se proyectará a las {horarios[opcion-1]}')\n",
    "\n",
    "#Pidiendo al usuario que elija una película\n"
   ]
  },
  {
   "cell_type": "markdown",
   "metadata": {},
   "source": [
    "Ejercicio Listas: "
   ]
  },
  {
   "cell_type": "code",
   "execution_count": null,
   "metadata": {},
   "outputs": [],
   "source": [
    "lista = [1,2,3,4]\n",
    "\n",
    "\n",
    "\n",
    "    lista.append(10)\n",
    "    print(lista.pop())\n",
    "    print(lista.count())\n",
    "    print(lista.count(lista.index(2)))\n",
    "    print(lista.remove(6))\n",
    "    print(lista)\n"
   ]
  },
  {
   "cell_type": "code",
   "execution_count": null,
   "metadata": {},
   "outputs": [],
   "source": [
    "lista_de_compras = ['huevos','leche','pan','queso','jamon']\n",
    "\n",
    "for producto in lista_de_compras:\n",
    "    print(producto)\n",
    "\n",
    "    \n",
    "lista_de_compras.append('pastel')\n",
    "print(lista_de_compras)\n"
   ]
  },
  {
   "cell_type": "code",
   "execution_count": 3,
   "metadata": {},
   "outputs": [
    {
     "name": "stdout",
     "output_type": "stream",
     "text": [
      "6\n",
      "4\n",
      "2\n",
      "1\n"
     ]
    }
   ],
   "source": [
    "def cortar_palos(palos):\n",
    "    while palos:\n",
    "        print(len(palos))\n",
    "        longitud_minima = min(palos)\n",
    "        palos = [x - longitud_minima for x in palos if x > longitud_minima]\n",
    "\n",
    "palos = [5, 4, 4, 2, 2, 8]\n",
    "cortar_palos(palos)"
   ]
  }
 ],
 "metadata": {
  "kernelspec": {
   "display_name": "Python 3",
   "language": "python",
   "name": "python3"
  },
  "language_info": {
   "codemirror_mode": {
    "name": "ipython",
    "version": 3
   },
   "file_extension": ".py",
   "mimetype": "text/x-python",
   "name": "python",
   "nbconvert_exporter": "python",
   "pygments_lexer": "ipython3",
   "version": "3.11.5"
  }
 },
 "nbformat": 4,
 "nbformat_minor": 2
}
