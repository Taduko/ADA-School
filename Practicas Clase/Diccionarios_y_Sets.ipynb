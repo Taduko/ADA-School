{
 "cells": [
  {
   "cell_type": "markdown",
   "metadata": {},
   "source": [
    "Practica de Diccionarios y Sets"
   ]
  },
  {
   "cell_type": "code",
   "execution_count": 1,
   "metadata": {},
   "outputs": [
    {
     "name": "stdout",
     "output_type": "stream",
     "text": [
      "De pocas carnes\n",
      "{'Flaco'}\n"
     ]
    }
   ],
   "source": [
    "diccionario = {\n",
    "                'Creatividad': 'Facultad de crear',\n",
    "                'Flaco': 'De pocas carnes',\n",
    "                'Ventas': 'Acción de vender'\n",
    "            }\n",
    "\n",
    "conju = set()\n",
    "\n",
    "palabra = input('Ingrese una palabra: ')\n",
    "conju.add(palabra)\n",
    "\n",
    "print(diccionario[palabra])\n",
    "\n",
    "print(conju)"
   ]
  }
 ],
 "metadata": {
  "kernelspec": {
   "display_name": "Python 3",
   "language": "python",
   "name": "python3"
  },
  "language_info": {
   "codemirror_mode": {
    "name": "ipython",
    "version": 3
   },
   "file_extension": ".py",
   "mimetype": "text/x-python",
   "name": "python",
   "nbconvert_exporter": "python",
   "pygments_lexer": "ipython3",
   "version": "3.11.5"
  }
 },
 "nbformat": 4,
 "nbformat_minor": 2
}
