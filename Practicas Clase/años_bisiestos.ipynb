{
 "cells": [
  {
   "cell_type": "markdown",
   "metadata": {},
   "source": [
    "Primera manera"
   ]
  },
  {
   "cell_type": "code",
   "execution_count": 57,
   "metadata": {},
   "outputs": [
    {
     "name": "stdout",
     "output_type": "stream",
     "text": [
      "El año 2000 es bisiesto\n"
     ]
    }
   ],
   "source": [
    "\"\"\"Escribir un programa que lea un año indicado por el usuario.\n",
    " El programa debe mostrar un mensaje indicando si es un año bisiesto o no.\"\"\"\n",
    "\n",
    "#Un año bisiesto es divisible por 4, pero no por 100. También es divisible por 400.\n",
    "#Ejemplo: 2000, 2004, 2008, 2012, 2016, 2020, 2024, 2028, 2032\n",
    "\n",
    "#Solicitar año\n",
    "año = int(input(\"Ingrese un año: \"))\n",
    "\n",
    "#Verificar si es bisiesto\n",
    "\n",
    "if año % 4 == 0 and año % 100 != 0 or año % 400 == 0:\n",
    "    print(\"El año\", año, \"es bisiesto\")\n",
    "else:\n",
    "    print(\"El año\", año, \"no es bisiesto\")\n"
   ]
  },
  {
   "cell_type": "markdown",
   "metadata": {},
   "source": [
    "Segunda Manera"
   ]
  },
  {
   "cell_type": "code",
   "execution_count": 54,
   "metadata": {},
   "outputs": [
    {
     "name": "stdout",
     "output_type": "stream",
     "text": [
      "El año 1808 es bisiesto\n"
     ]
    }
   ],
   "source": [
    "ano = int(input(\"Ingrese un año: \"))\n",
    "\n",
    "if ano % 4 != 0:                        # Si el residuo de la división es diferente de cero, no es bisiesto\n",
    "    print(\"El año\", ano, \"no es bisiesto\")\n",
    "elif ano % 100 == 0 and ano % 400 != 0: # Si el residuo de la división es cero, pero el año no es divisible por 400, no es bisiesto\n",
    "    print(f'El año {ano} no es bisiesto')\n",
    "else:                                   # Si el residuo de la división es cero, y el año es divisible por 400, es bisiesto\n",
    "    print(f'El año {ano} es bisiesto')\n",
    "\n",
    "\n",
    "    "
   ]
  },
  {
   "cell_type": "markdown",
   "metadata": {},
   "source": [
    "Tercera Manera"
   ]
  },
  {
   "cell_type": "code",
   "execution_count": 53,
   "metadata": {},
   "outputs": [
    {
     "name": "stdout",
     "output_type": "stream",
     "text": [
      "El año1808 es bisiesto\n"
     ]
    }
   ],
   "source": [
    "ano = int(input(\"Ingrese un año: \"))\n",
    "\n",
    "if not ano % 4:          #Si el residuo de la división es cero, es bisiesto\n",
    "    if not ano % 100:    #Si el residuo de la división es cero, pero el año no es divisible por 400, no es bisiesto\n",
    "        if not ano % 400:#Si el residuo de la división es cero, es bisiesto\n",
    "            print(f'El año {ano} es bisiesto')\n",
    "        else:            #Si el residuo de la división es cero, pero el año no es divisible por 400, no es bisiesto\n",
    "            print(f'El año {ano} no es bisiesto')\n",
    "    else:                #Si el residuo de la división es cero, es bisiesto\n",
    "        print(f'El año {ano} es bisiesto')\n",
    "else:                    #Si el residuo de la división es diferente de cero, no es bisiesto\n",
    "    print(f'El año {ano} no es bisiesto')        "
   ]
  },
  {
   "cell_type": "markdown",
   "metadata": {},
   "source": [
    "Cuarta Manera"
   ]
  },
  {
   "cell_type": "code",
   "execution_count": 58,
   "metadata": {},
   "outputs": [
    {
     "name": "stdout",
     "output_type": "stream",
     "text": [
      "El año 2000 es bisiesto\n"
     ]
    }
   ],
   "source": [
    "ano = int(input(\"Ingrese un año: \"))\n",
    "\n",
    "if ano % 4 == 0 and (ano % 100 != 0 or ano % 400 == 0):#Si el residuo de la división es cero, es bisiesto\n",
    "    print(f'El año {ano} es bisiesto')\n",
    "else:                                                  #Si el residuo de la división es diferente de cero, no es bisiesto    \n",
    "    print(f'El año {ano} no es bisiesto')"
   ]
  },
  {
   "cell_type": "markdown",
   "metadata": {},
   "source": [
    "Quinta Manera"
   ]
  },
  {
   "cell_type": "code",
   "execution_count": 51,
   "metadata": {},
   "outputs": [
    {
     "name": "stdout",
     "output_type": "stream",
     "text": [
      "Es bisiesto\n"
     ]
    }
   ],
   "source": [
    "ano = int(input(\"Ingrese un año: \"))\n",
    "\n",
    "print('Es bisiesto' if not ano % 4 and (ano % 100 != 0 or ano % 400 == 0) else 'No es bisiesto')\n",
    "\n",
    "def es_bisiesto(ano):#Función que determina si un año es bisiesto\n",
    "    return not ano % 4 and (ano % 100 or not ano % 400)"
   ]
  },
  {
   "cell_type": "markdown",
   "metadata": {},
   "source": [
    "Calcular todos los años bisiestos entre dos años dados\n"
   ]
  },
  {
   "cell_type": "code",
   "execution_count": null,
   "metadata": {},
   "outputs": [],
   "source": [
    "def es_bisiesto(ano):       #Función que determina si un año es bisiesto\n",
    "    return not ano % 4 and (ano % 100 or not ano % 400)\n",
    "\n",
    "for ano in range(1800,2021):#Ciclo que recorre los años desde 1800 hasta 2020\n",
    "    if es_bisiesto(ano):    #Si el año es bisiesto, se imprime\n",
    "        print(f'El año{ano} es bisiesto')\n",
    "    else:                   #Si el año no es bisiesto, se imprime\n",
    "        print(f'El año{ano} no es bisiesto')"
   ]
  },
  {
   "cell_type": "markdown",
   "metadata": {},
   "source": [
    "Comprobar año bisiesto con el módulo calendar de Python\n"
   ]
  },
  {
   "cell_type": "code",
   "execution_count": null,
   "metadata": {},
   "outputs": [],
   "source": [
    "from calendar import isleap\n",
    "\n",
    "for año in range(1800, 2021):\n",
    "\tif isleap(año):\n",
    "\t\tprint(f'El año {año} es bisiesto')\n",
    "\telse:\n",
    "\t\tprint(f'El año {año} no es bisiesto')"
   ]
  }
 ],
 "metadata": {
  "kernelspec": {
   "display_name": "Python 3",
   "language": "python",
   "name": "python3"
  },
  "language_info": {
   "codemirror_mode": {
    "name": "ipython",
    "version": 3
   },
   "file_extension": ".py",
   "mimetype": "text/x-python",
   "name": "python",
   "nbconvert_exporter": "python",
   "pygments_lexer": "ipython3",
   "version": "3.11.5"
  }
 },
 "nbformat": 4,
 "nbformat_minor": 2
}
